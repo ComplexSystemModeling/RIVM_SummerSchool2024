{
 "cells": [
  {
   "cell_type": "markdown",
   "metadata": {},
   "source": [
    "# Setup on your computer\n",
    "The Jupyter notebooks for the tutorial and the assignments have been built and tested using **Python 3** and Anaconda. By using conda we can create a virtual environment which acts as a vault where we can install our packages and run our models. This way we can control what is installed within this virtual environment, which you normally want to keep at a minimal level, and don't let it interfere with other virtual environments (for different projects for example)."
   ]
  },
  {
   "cell_type": "markdown",
   "metadata": {},
   "source": [
    "**Install Anaconda on your computer, preferably the version with Python 3.11**\n",
    "- [Anaconda install documentation](https://docs.anaconda.com/anaconda/install/)"
   ]
  },
  {
   "cell_type": "markdown",
   "metadata": {},
   "source": [
    "**Once succesfully installed, open Anaconda Prompt and navigate to your folder where you want all your files related to this summer school to be.** \n",
    "- In my case I navigate to something like: `user\\code\\rivm-summerschool\\`\n",
    "- In this folder we can \"clone\" the [GitHub](https://github.com/ComplexSystemModeling/RIVM_SummerSchool2024)\n",
    "- We can do this using the following command: `git clone https://github.com/ComplexSystemModeling/RIVM_SummerSchool2024.git`\n",
    "- Basically this creates a local copy of the files that are in the GitHub repository. Here you can read more about [GitHub](https://docs.github.com/en/get-started/start-your-journey/about-github-and-git) \n",
    "- If this does not work for some reason you get always download the files as a zipfile and unzip"
   ]
  },
  {
   "cell_type": "markdown",
   "metadata": {},
   "source": [
    "**Now we have the files we are going to use but we still need to setup the virtual environment**\n",
    "- For convenience we stay in the same folder in Anaconda Prompt, in my case: `user\\code\\rivm-summerschool\\`. This can be different for you, depending where you put the files.\n",
    "- `conda create -n [name-of-your-environment] python=3.11` will create a new conda environment, you can change [name-of-your-environment] to something shorter and more descriptive, such as 'rivm' (it shouldn't contain spaces).\n",
    "- `conda activate [name-of-your-environment]` activates the environment\n",
    "- `conda install jupyter mesa pandas seaborn matplotlib networkx salib` these are all the python packages we will need and are installed using this command\n",
    "- Some packages take very long or are not able to be installed using conda. **Make sure you install the packages with your environment activated otherwise they won't be installed within**\n",
    "- If installing one of the packages gives problems, which happens often, you can google the package name and put \"conda\" behind. For example for mesa we can run the following line separately `conda install conda-forge::mesa`\n",
    "- If that does not work, the axelrod package (used on day 2) gave me problems for example. One thing you can try then is `conda run pip install axelrod`. Pip is the default Python installer."
   ]
  },
  {
   "cell_type": "markdown",
   "metadata": {},
   "source": [
    "**Now you should be able to start jupyter notebook using the following**\n",
    "- Within your activated environment in Anaconda Prompt run: `jupyter notebook`\n",
    "- This will start a localhost in your default browser\n",
    "- Navigate to the notebooks of day 1, in my case they are in the following location: `user\\code\\rivm-summerschool\\RIVM_SummerSchool2024\\day1\\`\n",
    "- Make sure you can run the cell below (using shift-enter) without errors\n",
    "- If you see \"everything installed\" you can start the second notebook of day 1: rivm-mesa"
   ]
  },
  {
   "cell_type": "code",
   "execution_count": 2,
   "metadata": {},
   "outputs": [
    {
     "name": "stdout",
     "output_type": "stream",
     "text": [
      "Everything installed!\n"
     ]
    }
   ],
   "source": [
    "from IPython.display import clear_output\n",
    "import mesa\n",
    "import SALib\n",
    "import pandas\n",
    "import numpy\n",
    "import seaborn\n",
    "import axelrod\n",
    "import networkx\n",
    "import matplotlib\n",
    "clear_output(wait=True)\n",
    "print(\"Everything installed!\")"
   ]
  },
  {
   "cell_type": "code",
   "execution_count": null,
   "metadata": {},
   "outputs": [],
   "source": []
  }
 ],
 "metadata": {
  "kernelspec": {
   "display_name": "Python 3 (ipykernel)",
   "language": "python",
   "name": "python3"
  },
  "language_info": {
   "codemirror_mode": {
    "name": "ipython",
    "version": 3
   },
   "file_extension": ".py",
   "mimetype": "text/x-python",
   "name": "python",
   "nbconvert_exporter": "python",
   "pygments_lexer": "ipython3",
   "version": "3.11.9"
  },
  "vscode": {
   "interpreter": {
    "hash": "aee8b7b246df8f9039afb4144a1f6fd8d2ca17a180786b69acc140d282b71a49"
   }
  }
 },
 "nbformat": 4,
 "nbformat_minor": 4
}
