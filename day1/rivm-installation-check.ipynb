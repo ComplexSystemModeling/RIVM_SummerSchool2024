{
 "cells": [
  {
   "cell_type": "markdown",
   "metadata": {},
   "source": [
    "# Setup on your computer\n",
    "\n",
    "The notebooks for the tutorial and the assignments have been built and tested using **Python 3** and Anaconda. By using conda and venv we can create a virtual environment and basically create our .\n",
    "\n",
    "**Install Anaconda on your computer**\n",
    "- [Anaconda install documentation](https://docs.anaconda.com/anaconda/install/)\n",
    "------\n",
    "\n",
    "**Once succesfully installed, open your Terminal (MacOS / Linux) or Commandprompt (Windows) and navigate to your folder where you want all your files related to this summer school to be. Then run the following commands:**\n",
    "- `conda create -n [name-of-your-environment] python=3.11` will create a new conda environment, you can change [name-of-your-environment] to something shorter and more descriptive, such as 'rivm'.\n",
    "- `conda activate [name-of-your-environment]` activates the environment\n",
    "- `conda install jupyter mesa pandas seaborn matplotlib networkx salib` these are all the python packages we will need and are installed using this command\n",
    "- Some packages take very long or are not able to be installed using conda. The axelrod package (used on day 2) gave me problems. One thing you can try then is `conda run pip install axelrod`. Pip is the default Python installer. Run this as well please, as we are going to use this package on day 2.\n",
    "- `conda deactivate` will deactivate the virtual environment when you are done\n",
    "------\n",
    "\n",
    "Below the links to the documentation of the packages used:\n",
    "- [Mesa](https://mesa.readthedocs.io/en/master/)\n",
    "- [Ipynb](https://ipython.org/ipython-doc/1/interactive/notebook.html) \n",
    "- [Axelrod](https://axelrod.readthedocs.io/en/stable/)\n",
    "- [Ipython](https://ipython.readthedocs.io/en/stable/whatsnew/version6.html#ipython-6-2)\n",
    "- [Jupyter_console](https://pypi.org/project/jupyter_console/5.2.0/#history)\n",
    "- [Statsmodel](https://www.statsmodels.org/stable/index.html)\n",
    "- [SALib](https://salib.readthedocs.io/en/latest/) \n",
    "- [Pandas](https://pandas.pydata.org/)\n",
    "- [Numpy](https://pandas.pydata.org/)\n",
    "- [Matplotlib](https://pandas.pydata.org/)\n",
    "------\n",
    "\n",
    "**Everytime you start to work on the excercises, make sure you run `conda activate [name-of-your-environment]` in your Terminal (MacOS / Linux) or Commandprompt (Windows) before `jupyter notebook`** otherwise you won't have access to the packages.\n"
   ]
  },
  {
   "cell_type": "code",
   "execution_count": 1,
   "metadata": {},
   "outputs": [
    {
     "name": "stdout",
     "output_type": "stream",
     "text": [
      "Everything installed!\n"
     ]
    }
   ],
   "source": [
    "from IPython.display import clear_output\n",
    "import mesa\n",
    "import SALib\n",
    "import pandas\n",
    "import numpy\n",
    "import seaborn\n",
    "import networkx\n",
    "import matplotlib\n",
    "clear_output(wait=True)\n",
    "print(\"Everything installed!\")"
   ]
  },
  {
   "cell_type": "code",
   "execution_count": null,
   "metadata": {},
   "outputs": [],
   "source": []
  }
 ],
 "metadata": {
  "kernelspec": {
   "display_name": "Python 3 (ipykernel)",
   "language": "python",
   "name": "python3"
  },
  "language_info": {
   "codemirror_mode": {
    "name": "ipython",
    "version": 3
   },
   "file_extension": ".py",
   "mimetype": "text/x-python",
   "name": "python",
   "nbconvert_exporter": "python",
   "pygments_lexer": "ipython3",
   "version": "3.11.9"
  },
  "vscode": {
   "interpreter": {
    "hash": "aee8b7b246df8f9039afb4144a1f6fd8d2ca17a180786b69acc140d282b71a49"
   }
  }
 },
 "nbformat": 4,
 "nbformat_minor": 4
}
